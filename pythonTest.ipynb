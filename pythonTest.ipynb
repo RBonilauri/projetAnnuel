{
 "cells": [
  {
   "cell_type": "markdown",
   "id": "superb-marine",
   "metadata": {},
   "source": [
    "Notebook pour tester le code en C"
   ]
  },
  {
   "cell_type": "code",
   "execution_count": 1,
   "id": "conservative-twist",
   "metadata": {},
   "outputs": [],
   "source": [
    "from ctypes import *\n",
    "import matplotlib.pyplot as plt\n",
    "import random\n",
    "import numpy as np\n",
    "from dataclasses import dataclass\n",
    "import math"
   ]
  },
  {
   "cell_type": "markdown",
   "id": "occupied-celtic",
   "metadata": {},
   "source": [
    "Importation du DLL"
   ]
  },
  {
   "cell_type": "code",
   "execution_count": 2,
   "id": "textile-kelly",
   "metadata": {
    "scrolled": true
   },
   "outputs": [],
   "source": [
    "path_to_dll = \"C:/Users/Toky Cedric/Desktop/Etudes/Projet Annuel/CPPDLL_ForPython/cmake-build-debug/CPPDLL_ForPython.dll\"\n",
    "mylib = cdll.LoadLibrary(path_to_dll)"
   ]
  },
  {
   "cell_type": "code",
   "execution_count": 28,
   "id": "elegant-shanghai",
   "metadata": {
    "scrolled": false
   },
   "outputs": [
    {
     "name": "stdout",
     "output_type": "stream",
     "text": [
      "[-0.029787    0.30208147]\n",
      "[-3.0506017208099365, -2.7485203742980957, -2.446438789367676, -2.144357204437256, -1.842275857925415, -1.5401942729949951, -1.2381129264831543, -0.9360314011573792, -0.6339499354362488, -0.3318684697151184, -0.029787003993988037, 0.27229446172714233, 0.5743759274482727, 0.8764573931694031, 1.1785387992858887, 1.4806203842163086, 1.7827017307281494, 2.0847830772399902, 2.38686466217041, 2.68894624710083, 2.991027593612671]\n"
     ]
    },
    {
     "data": {
      "image/png": "[encoded data removed]",
      "text/plain": [
       "<Figure size 432x288 with 1 Axes>"
      ]
     },
     "metadata": {
      "needs_background": "light"
     },
     "output_type": "display_data"
    },
    {
     "name": "stdout",
     "output_type": "stream",
     "text": [
      "[6.4053397  0.25679615]\n",
      "[3.8373782634735107, 4.094174385070801, 4.350970268249512, 4.607766628265381, 4.86456298828125, 5.121358871459961, 5.37815523147583, 5.634951114654541, 5.89174747467041, 6.148543357849121, 6.40533971786499, 6.662136077880859, 6.91893196105957, 7.1757283210754395, 7.43252420425415, 7.6893205642700195, 7.9461164474487305, 8.202913284301758, 8.459709167480469, 8.71650505065918, 8.97330093383789]\n",
      "here\n"
     ]
    },
    {
     "data": {
      "image/png": "[encoded data removed]",
      "text/plain": [
       "<Figure size 432x288 with 1 Axes>"
      ]
     },
     "metadata": {
      "needs_background": "light"
     },
     "output_type": "display_data"
    }
   ],
   "source": [
    "dataset_inputs = [\n",
    "                [-5],\n",
    "                [4],\n",
    "                [6],\n",
    "]\n",
    "\n",
    " \n",
    "\n",
    "dataset_expected_outputs = [\n",
    "                5.2,\n",
    "                7.0,\n",
    "                8.3\n",
    "]\n",
    "\n",
    " \n",
    "\n",
    "mylib.create_linear_model.argtypes = [c_int]\n",
    "mylib.create_linear_model.restype = POINTER(c_float)\n",
    "\n",
    " \n",
    "\n",
    "model = mylib.create_linear_model(1)\n",
    "x = np.ctypeslib.as_array(model, (2,))\n",
    "#arrsize = len(model)\n",
    "#arrtype = c_float * arrsize\n",
    "#arr = arrtype(*model)\n",
    "\n",
    " \n",
    "\n",
    "flattened_dataset_inputs = []\n",
    "for p in dataset_inputs:\n",
    "  flattened_dataset_inputs.append(float(p[0]))\n",
    "\n",
    " \n",
    "\n",
    "test_dataset_inputs = []\n",
    "for i in range(-10, 11):\n",
    "    test_dataset_inputs.append(i)\n",
    "    \n",
    "#mylib.predict_linear_model_regression.argtypes = [POINTER(c_float), c_int]\n",
    "#mylib.predict_linear_model_regression.restype = c_float \n",
    "\n",
    " \n",
    "\n",
    "predicted_outputs = []\n",
    "\n",
    "for p in test_dataset_inputs:\n",
    "    arrsizeP = len([p])\n",
    "    arrtypeP = c_float * arrsizeP\n",
    "    arrP = arrtypeP(*[p])\n",
    "    mylib.predict_linear_model_regression.argtypes = [POINTER(c_float), arrtypeP, c_int]\n",
    "    mylib.predict_linear_model_regression.restype = c_float\n",
    "\n",
    "    tmp = mylib.predict_linear_model_regression(model, arrP, 2)\n",
    "    predicted_outputs.append(tmp)\n",
    "\n",
    "\n",
    "arrX = np.ctypeslib.as_array(model, (2,))\n",
    "print(x)\n",
    "print(predicted_outputs)\n",
    " \n",
    "\n",
    "\n",
    "#np_arr = np.ctypelib.as_arr()\n",
    "plt.plot(test_dataset_inputs, predicted_outputs)\n",
    "plt.scatter([p[0] for p in dataset_inputs], dataset_expected_outputs, s=200)\n",
    "plt.axis([-10, 10, -10, 10])\n",
    "plt.show()\n",
    "\n",
    "####\n",
    "\n",
    "arr_flat_size = len(flattened_dataset_inputs)\n",
    "arr_flat_type = c_float * arr_flat_size\n",
    "arr_flattened_dataset_inputs = arr_flat_type(*flattened_dataset_inputs)\n",
    "\n",
    "arr_dataset_size = len(dataset_expected_outputs)\n",
    "arr_dataset_type = c_float * arr_dataset_size\n",
    "arr_dataset = arr_dataset_type(*dataset_expected_outputs)\n",
    "\n",
    "mylib.train_regression_pseudo_inverse_linear_model.argtypes = [POINTER(c_float), arr_flat_type, arr_dataset_type, c_int, c_int,c_int]\n",
    "\n",
    "mylib.train_regression_pseudo_inverse_linear_model(model, arr_flattened_dataset_inputs, arr_dataset,2,len(flattened_dataset_inputs), len(dataset_expected_outputs))\n",
    "\n",
    "test_dataset_inputs = []\n",
    "for i in range(-10, 11):\n",
    "    temp = i\n",
    "    test_dataset_inputs.append(float(temp))\n",
    "    \n",
    "result = []\n",
    "for p in test_dataset_inputs:\n",
    "    arrsizeP = len([p])\n",
    "    arrtypeP = c_float * arrsizeP\n",
    "    arrP = arrtypeP(*[p])\n",
    "    mylib.predict_linear_model_regression.argtypes = [POINTER(c_float), arrtypeP, c_int]\n",
    "    mylib.predict_linear_model_regression.restype = c_float\n",
    "\n",
    "    tmp = mylib.predict_linear_model_regression(model, arrP, 2)\n",
    "    result.append(tmp)\n",
    "    \n",
    "print(x)\n",
    "print(result)\n",
    "print(\"here\")\n",
    "plt.plot(test_dataset_inputs, result)\n",
    "plt.scatter([p[0] for p in dataset_inputs], dataset_expected_outputs, s=200)\n",
    "plt.axis([-10, 10, -10, 10])\n",
    "plt.show()\n",
    "\n",
    "\n",
    "mylib.destroy_linear_model.argtypes = [POINTER(c_float)]\n",
    "mylib.destroy_linear_model.restype = None\n",
    "\n",
    "mylib.destroy_linear_model(model)\n"
   ]
  },
  {
   "cell_type": "code",
   "execution_count": null,
   "id": "superior-tolerance",
   "metadata": {},
   "outputs": [],
   "source": []
  },
  {
   "cell_type": "code",
   "execution_count": null,
   "id": "stupid-scottish",
   "metadata": {},
   "outputs": [],
   "source": []
  }
 ],
 "metadata": {
  "kernelspec": {
   "display_name": "Python 3",
   "language": "python",
   "name": "python3"
  },
  "language_info": {
   "codemirror_mode": {
    "name": "ipython",
    "version": 3
   },
   "file_extension": ".py",
   "mimetype": "text/x-python",
   "name": "python",
   "nbconvert_exporter": "python",
   "pygments_lexer": "ipython3",
   "version": "3.8.8"
  }
 },
 "nbformat": 4,
 "nbformat_minor": 5
}
