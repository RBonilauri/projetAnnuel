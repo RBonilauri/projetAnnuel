{
 "cells": [
  {
   "cell_type": "code",
   "execution_count": 1,
   "id": "378ebbcc",
   "metadata": {},
   "outputs": [],
   "source": [
    "import matplotlib.pyplot as plt\n",
    "import random\n",
    "import numpy as np\n",
    "from dataclasses import dataclass\n",
    "import math\n",
    "from ctypes import * \n"
   ]
  },
  {
   "cell_type": "code",
   "execution_count": 2,
   "id": "47f9142c",
   "metadata": {},
   "outputs": [],
   "source": [
    "path_to_dll = \"C:/Users/bowet/Documents/cdll_projet/cmake-build-debug/cdll_projet.dll\"\n",
    "\n",
    "mylib = cdll.LoadLibrary(path_to_dll)"
   ]
  },
  {
   "cell_type": "markdown",
   "id": "b94df3ce",
   "metadata": {},
   "source": [
    "# Utilisation du Modèle linéaire pour la régression¶"
   ]
  },
  {
   "cell_type": "code",
   "execution_count": null,
   "id": "fca9b877",
   "metadata": {},
   "outputs": [],
   "source": []
  },
  {
   "cell_type": "markdown",
   "id": "5687709f",
   "metadata": {},
   "source": [
    "# Utilisation du PMC pour de la classification"
   ]
  },
  {
   "cell_type": "code",
   "execution_count": null,
   "id": "bf5df1ab",
   "metadata": {},
   "outputs": [],
   "source": []
  },
  {
   "cell_type": "markdown",
   "id": "a7542715",
   "metadata": {},
   "source": [
    "# Utilisation du modèle pour de la Régression"
   ]
  },
  {
   "cell_type": "code",
   "execution_count": 6,
   "id": "5c242a10",
   "metadata": {},
   "outputs": [
    {
     "data": {
      "image/png": "[encoded data removed]",
      "text/plain": [
       "<Figure size 432x288 with 1 Axes>"
      ]
     },
     "metadata": {
      "needs_background": "light"
     },
     "output_type": "display_data"
    },
    {
     "data": {
      "image/png": "[encoded data removed]",
      "text/plain": [
       "<Figure size 432x288 with 1 Axes>"
      ]
     },
     "metadata": {
      "needs_background": "light"
     },
     "output_type": "display_data"
    }
   ],
   "source": [
    "dataset_inputs = [\n",
    "                [-5],\n",
    "                [4],\n",
    "                [6],\n",
    "]\n",
    "\n",
    "dataset_expected_outputs = [\n",
    "                1.2,\n",
    "                7,\n",
    "                8.3\n",
    "]\n",
    "\n",
    "\n",
    "x = [1, 3, 1]\n",
    "arr_sizex = len(x)\n",
    "arr_typex = c_int * arr_sizex\n",
    "arrx = arr_typex(*x)\n",
    "\n",
    "\n",
    "mylib.create_mlp_model.argtypes = [arr_typex, c_int]\n",
    "mylib.create_mlp_model.restype = c_void_p\n",
    "\n",
    "model = mylib.create_mlp_model(arrx, int(arr_sizex))\n",
    "\n",
    "flattened_dataset_inputs = []\n",
    "for p in dataset_inputs:\n",
    "  flattened_dataset_inputs.append(p[0])\n",
    "\n",
    "test_dataset_inputs = [i for i in range(-10, 11)]\n",
    "\n",
    "\n",
    "predicted_outputs = []\n",
    "for p in test_dataset_inputs:\n",
    "    arr_sizeP = len([p])\n",
    "    arr_typeP = c_float * arr_sizeP\n",
    "    arrP = arr_typeP(*[p])\n",
    "    \n",
    "    mylib.predict_mlp_model_regression.argtypes = [c_void_p, arr_typeP]\n",
    "    mylib.predict_mlp_model_regression.restype = POINTER(c_float)\n",
    "    tmp=[]\n",
    "    \n",
    "    tmp = mylib.predict_mlp_model_regression(model, arrP)\n",
    "   \n",
    "    predicted_outputs.append(tmp[0])\n",
    "\n",
    "\n",
    "plt.plot(test_dataset_inputs, predicted_outputs)\n",
    "plt.scatter([p[0] for p in dataset_inputs], dataset_expected_outputs, s=200)\n",
    "plt.axis([-10, 10, -10, 10])\n",
    "plt.show()\n",
    "\n",
    "#définition du tableau\n",
    "arrsize_flat = len(flattened_dataset_inputs)\n",
    "arrtype_flat = c_float * arrsize_flat\n",
    "arr_flat = arrtype_flat(*flattened_dataset_inputs)\n",
    "\n",
    "arrsize_exp = len(dataset_expected_outputs)\n",
    "arrtype_exp = c_float * arrsize_exp\n",
    "arr_exp = arrtype_exp(*dataset_expected_outputs)\n",
    "\n",
    "\n",
    "mylib.train_regression_stochastic_gradient_backpropagation_mlp_model.argtypes = [c_void_p, arrtype_flat, c_int, arrtype_exp, c_float, c_int]\n",
    "mylib.train_regression_stochastic_gradient_backpropagation_mlp_model.restype = None\n",
    "\n",
    "mylib.train_regression_stochastic_gradient_backpropagation_mlp_model(model,arr_flat,arrsize_flat,arr_exp,0.001, 100000)\n",
    "\n",
    "test_dataset_inputs = [i for i in range(-10, 11)]\n",
    "\n",
    "\n",
    "predicted_outputs = []\n",
    "for p in test_dataset_inputs:\n",
    "    arr_sizeP = len([p])\n",
    "    arr_typeP = c_float * arr_sizeP\n",
    "    arrP = arr_typeP(*[p])\n",
    "    \n",
    "    mylib.predict_mlp_model_regression.argtypes = [c_void_p, arr_typeP]\n",
    "    mylib.predict_mlp_model_regression.restype = POINTER(c_float)\n",
    "    tmp=[]\n",
    "    \n",
    "    tmp = mylib.predict_mlp_model_regression(model, arrP)\n",
    "   \n",
    "    predicted_outputs.append(tmp[0])\n",
    "        \n",
    "\n",
    "plt.plot(test_dataset_inputs, predicted_outputs)\n",
    "plt.scatter([p[0] for p in dataset_inputs], dataset_expected_outputs, s=200)\n",
    "plt.axis([-10, 10, -10, 10])\n",
    "plt.show()\n"
   ]
  },
  {
   "cell_type": "code",
   "execution_count": null,
   "id": "9fe5b7fa",
   "metadata": {},
   "outputs": [],
   "source": []
  },
  {
   "cell_type": "code",
   "execution_count": null,
   "id": "eebba93e",
   "metadata": {},
   "outputs": [],
   "source": []
  },
  {
   "cell_type": "code",
   "execution_count": null,
   "id": "692884ed",
   "metadata": {},
   "outputs": [],
   "source": []
  },
  {
   "cell_type": "code",
   "execution_count": null,
   "id": "d29ca1a4",
   "metadata": {},
   "outputs": [],
   "source": []
  },
  {
   "cell_type": "code",
   "execution_count": null,
   "id": "056aa0f9",
   "metadata": {},
   "outputs": [],
   "source": []
  }
 ],
 "metadata": {
  "kernelspec": {
   "display_name": "Python 3",
   "language": "python",
   "name": "python3"
  },
  "language_info": {
   "codemirror_mode": {
    "name": "ipython",
    "version": 3
   },
   "file_extension": ".py",
   "mimetype": "text/x-python",
   "name": "python",
   "nbconvert_exporter": "python",
   "pygments_lexer": "ipython3",
   "version": "3.8.8"
  }
 },
 "nbformat": 4,
 "nbformat_minor": 5
}
