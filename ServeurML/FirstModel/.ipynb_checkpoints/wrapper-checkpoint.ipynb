{
 "cells": [
  {
   "cell_type": "code",
   "execution_count": 1,
   "id": "9457d7a9",
   "metadata": {},
   "outputs": [],
   "source": [
    "from ctypes import *\n",
    "import numpy as np\n",
    "from ctypes import cdll\n",
    "import numpy as np\n",
    "from matplotlib import pyplot as plt\n",
    "from sklearn.metrics import mean_squared_error, accuracy_score\n",
    "from IPython.display import clear_output\n",
    "import os\n",
    "import numpy as np\n",
    "from PIL import Image\n"
   ]
  },
  {
   "cell_type": "code",
   "execution_count": 2,
   "id": "f1a8b3c0",
   "metadata": {},
   "outputs": [],
   "source": [
    "def import_images_and_assign_labels(\n",
    "        folder, label, X, Y\n",
    "):\n",
    "    for file in os.listdir(folder):\n",
    "        image_path = os.path.join(folder, file)\n",
    "        im = Image.open(image_path)\n",
    "        im = im.resize((32, 32))\n",
    "        im = im.convert(\"RGB\")\n",
    "        im_arr = np.array(im)\n",
    "        im_arr = np.reshape(im_arr, (32 * 32 * 3))\n",
    "        X.append(im_arr)\n",
    "        Y.append(label)\n",
    "\n",
    "def import_dataset():\n",
    "\n",
    "    dataset_folder = \"C:/Users/bowet/Documents/projet_cdll/dataSet/\"\n",
    "    train_folder = os.path.join(dataset_folder, \"train\")\n",
    "    test_folder = os.path.join(dataset_folder, \"test\")\n",
    "\n",
    "    X_train = []\n",
    "    y_train = []\n",
    "    import_images_and_assign_labels(\n",
    "        os.path.join(train_folder, \"planete\"),[-1.0, 1.0], X_train, y_train\n",
    "    )\n",
    "    import_images_and_assign_labels(\n",
    "        os.path.join(train_folder, \"pasplanete\"), [-1.0, -1.0], X_train, y_train\n",
    "    )\n",
    "    X_test = []\n",
    "    y_test = []\n",
    "    import_images_and_assign_labels(\n",
    "        os.path.join(test_folder, \"planete\"),[-1.0, 1.0], X_test, y_test\n",
    "    )\n",
    "    import_images_and_assign_labels(\n",
    "        os.path.join(test_folder, \"pasplanete\"),[-1.0, -1.0], X_test, y_test\n",
    "    )\n",
    "    return (np.array(X_train) / 255.0, np.array(y_train)), \\\n",
    "           (np.array(X_test) / 255.0, np.array(y_test))\n"
   ]
  },
  {
   "cell_type": "code",
   "execution_count": null,
   "id": "cf369ad6",
   "metadata": {},
   "outputs": [],
   "source": []
  },
  {
   "cell_type": "code",
   "execution_count": 3,
   "id": "046ad850",
   "metadata": {},
   "outputs": [],
   "source": [
    "class MLPWrapper() :\n",
    "\n",
    "    def __init__(self, npl: [int], is_classification: bool = True,\n",
    "               alpha: float = 0.01, iterations_count: int = 1000):\n",
    "\n",
    "        path_to_dll = \"C:/Users/bowet/Documents/projet_cdll/cmake-build-debug/projet_cdll.dll\"\n",
    "        mylib = cdll.LoadLibrary(path_to_dll)\n",
    "\n",
    "        init_size = len(npl)\n",
    "        init_type = c_int * init_size\n",
    "        init = init_type(*npl)\n",
    "        mylib.create_mlp_model.argtypes = [init_type, c_int]\n",
    "        mylib.create_mlp_model.restype = c_void_p\n",
    "\n",
    "        self.model = mylib.create_mlp_model(init, int(init_size))\n",
    "        self.is_classification = is_classification\n",
    "        self.alpha = alpha\n",
    "        self.iterations_count = iterations_count\n",
    "        print(\"wrapper initialisé\")\n",
    "\n",
    "\n",
    "    def fit(self, X, Y):\n",
    "        path_to_dll = \"C:/Users/bowet/Documents/projet_cdll/cmake-build-debug/projet_cdll.dll\"\n",
    "        mylib = cdll.LoadLibrary(path_to_dll)\n",
    "\n",
    "\n",
    "        if self.is_classification:\n",
    "            dataset_inputs = np.array(X)\n",
    "            dataset_expected_outputs = np.array(Y)\n",
    "\n",
    "            flattened_dataset_inputs = dataset_inputs.flatten()\n",
    "\n",
    "\n",
    "\n",
    "            # definition de train_classification_stochastic_gradient....\n",
    "            arrsize_flat = len(flattened_dataset_inputs)\n",
    "            arrtype_flat = c_float * arrsize_flat\n",
    "            arr_flat = arrtype_flat(*flattened_dataset_inputs)\n",
    "\n",
    "            arrsize_exp = len(dataset_expected_outputs.flatten())\n",
    "            arrtype_exp = c_float * arrsize_exp\n",
    "            arr_exp = arrtype_exp(*dataset_expected_outputs.flatten())\n",
    "\n",
    "\n",
    "            mylib.train_classification_stochastic_gradient_backpropagation_mlp_model.argtypes = [c_void_p, arrtype_flat,\n",
    "                                                                                                 c_int,\n",
    "                                                                                                 arrtype_exp, c_float,\n",
    "                                                                                                 c_int]\n",
    "            mylib.train_classification_stochastic_gradient_backpropagation_mlp_model.restype = None\n",
    "\n",
    "            mylib.train_classification_stochastic_gradient_backpropagation_mlp_model(self.model, arr_flat, arrsize_flat, arr_exp,\n",
    "                                                                                     self.alpha, self.iterations_count)\n",
    "\n",
    "        else:\n",
    "            mylib.train_regression_stochastic_gradient_backpropagation_mlp_model(self.model,\n",
    "                                                                         X.flatten(),\n",
    "                                                                         Y.flatten(),\n",
    "                                                                         self.alpha,\n",
    "                                                                         self.iterations_count)\n",
    "\n",
    "    def predict(self, X):\n",
    "        path_to_dll = \"C:/Users/bowet/Documents/projet_cdll/cmake-build-debug/projet_cdll.dll\"\n",
    "        mylib = cdll.LoadLibrary(path_to_dll)\n",
    "\n",
    "        mylib.getLengthX.argtypes = [c_void_p]\n",
    "        mylib.restype = c_int\n",
    "        tmp_len = mylib.getLengthX(self.model)\n",
    "\n",
    "        if not hasattr(X, 'shape'):\n",
    "          X = np.array(X)\n",
    "\n",
    "        if len(X.shape) == 1:\n",
    "          X = np.expand_dims(X, axis=0)\n",
    "\n",
    "\n",
    "        predicted_outputs = []\n",
    "        for p in X:\n",
    "            if self.is_classification:\n",
    "                arrsizeP = len(p)\n",
    "                arrtypeP = c_float * arrsizeP\n",
    "                arrP = arrtypeP(*p)\n",
    "                mylib.predict_mlp_model_classification.argtypes = [c_void_p, arrtypeP]\n",
    "                mylib.predict_mlp_model_classification.restype = POINTER(c_float)\n",
    "                tmp = mylib.predict_mlp_model_classification(self.model, arrP)\n",
    "                np_arr = np.ctypeslib.as_array(tmp, (tmp_len,))\n",
    "                l = []\n",
    "                for i in np_arr:\n",
    "                    l.append(i)\n",
    "                predicted_outputs.append(l)\n",
    "\n",
    "\n",
    "        return predicted_outputs"
   ]
  },
  {
   "cell_type": "code",
   "execution_count": 4,
   "id": "4fd8d379",
   "metadata": {},
   "outputs": [],
   "source": [
    "(X_train, y_train), (X_test, y_test) = import_dataset()"
   ]
  },
  {
   "cell_type": "code",
   "execution_count": 13,
   "id": "aa30e7ca",
   "metadata": {},
   "outputs": [
    {
     "name": "stdout",
     "output_type": "stream",
     "text": [
      "epoch = 99 , loss = 0.05102005937547111, val_loss = 4.473575783965344e-05, acc = 0.5854616895874263, val_acc = 0.6\n",
      "Fin de l'entrainement\n"
     ]
    },
    {
     "data": {
      "image/png": "[encoded data removed]",
      "text/plain": [
       "<Figure size 432x288 with 1 Axes>"
      ]
     },
     "metadata": {
      "needs_background": "light"
     },
     "output_type": "display_data"
    },
    {
     "data": {
      "image/png": "[encoded data removed]",
      "text/plain": [
       "<Figure size 432x288 with 1 Axes>"
      ]
     },
     "metadata": {
      "needs_background": "light"
     },
     "output_type": "display_data"
    }
   ],
   "source": [
    "\n",
    "\n",
    "path_to_dll = \"C:/Users/bowet/Documents/projet_cdll/cmake-build-debug/projet_cdll.dll\"\n",
    "mylib = cdll.LoadLibrary(path_to_dll)\n",
    "\n",
    "dataset_inputs = np.array(X_train)\n",
    "dataset_expected_outputs = np.array(y_train)\n",
    "in[0])\n",
    "init_tab = [len(X_tra,8, 2]\n",
    "\n",
    "print(\"initialisation du wrapper\")\n",
    "wrapped_model = MLPWrapper(init_tab, iterations_count =len(X_train))\n",
    "\n",
    "losses = []\n",
    "val_losses = []\n",
    "\n",
    "accs = []\n",
    "val_accs = []\n",
    "\n",
    "# print(len(y_train))\n",
    "# # print(y_test)\n",
    "print(\"début de l'entrainement\")\n",
    "for epoch in range(100):\n",
    "    wrapped_model.fit(X_train, y_train)\n",
    "\n",
    "    y_pred = wrapped_model.predict(X_train)\n",
    "    \n",
    "    loss = mean_squared_error(y_train, y_pred)\n",
    "    losses.append(loss)\n",
    "    \n",
    "    val_y_pred = wrapped_model.predict(X_test)\n",
    "    val_loss = mean_squared_error(y_test, val_y_pred)\n",
    "    val_losses.append(val_loss)\n",
    "\n",
    "    \n",
    "    # print(\"y_train : \",y_train)\n",
    "    # print(\"acc_pred : \",acc_pred)\n",
    "\n",
    "    acc = accuracy_score(np.argmax(y_train, axis=1), np.argmax(y_pred, axis=1))\n",
    "    \n",
    "    accs.append(acc)\n",
    "\n",
    "\n",
    "    \n",
    "    # print(\"y_test : \",y_test)\n",
    "    # print(\"acc_val : \",acc_val_y)\n",
    "\n",
    "    val_acc = accuracy_score(np.argmax(y_test, axis=1), np.argmax(val_y_pred, axis=1))\n",
    "    val_accs.append(val_acc)\n",
    "    clear_output()\n",
    "    print(f\"epoch = {epoch} , loss = {loss}, val_loss = {val_loss}, acc = {acc}, val_acc = {val_acc}\")\n",
    "\n",
    "    print(\"Fin de l'entrainement\")\n",
    "    plt.plot(losses)\n",
    "    plt.plot(val_losses)\n",
    "    plt.legend(['loss', 'val_loss'], loc='upper left')\n",
    "    plt.title('Evolution of loss (MSE)')\n",
    "    plt.xlabel('epochs')\n",
    "    plt.ylabel(f'mean squared error')\n",
    "    plt.show()\n",
    "\n",
    "    plt.plot(accs)\n",
    "    plt.plot(val_accs)\n",
    "    plt.legend(['acc', 'val_acc'], loc='upper left')\n",
    "    plt.title('Evolution of accuracy')\n",
    "    plt.xlabel('epochs')\n",
    "    plt.ylabel(f'accuracy')\n",
    "    plt.show()\n",
    "\n",
    "\n",
    "\n",
    "\n",
    "\n",
    "\n",
    "\n"
   ]
  },
  {
   "cell_type": "code",
   "execution_count": null,
   "id": "6d004602",
   "metadata": {},
   "outputs": [],
   "source": [
    "Confusion Matrix"
   ]
  },
  {
   "cell_type": "code",
   "execution_count": 14,
   "id": "598a0c24",
   "metadata": {},
   "outputs": [],
   "source": [
    "from sklearn.metrics import confusion_matrix"
   ]
  },
  {
   "cell_type": "code",
   "execution_count": 15,
   "id": "4f67437c",
   "metadata": {},
   "outputs": [
    {
     "data": {
      "text/plain": [
       "array([[0, 4],\n",
       "       [0, 6]], dtype=int64)"
      ]
     },
     "execution_count": 15,
     "metadata": {},
     "output_type": "execute_result"
    }
   ],
   "source": [
    " y_pred = wrapped_model.predict(X_train)\n",
    "confusion_matrix(np.argmax(y_test, axis=1), np.argmax(wrapped_model.predict(X_test), axis=1))"
   ]
  },
  {
   "cell_type": "code",
   "execution_count": null,
   "id": "595e5a29",
   "metadata": {},
   "outputs": [],
   "source": []
  }
 ],
 "metadata": {
  "kernelspec": {
   "display_name": "Python 3",
   "language": "python",
   "name": "python3"
  },
  "language_info": {
   "codemirror_mode": {
    "name": "ipython",
    "version": 3
   },
   "file_extension": ".py",
   "mimetype": "text/x-python",
   "name": "python",
   "nbconvert_exporter": "python",
   "pygments_lexer": "ipython3",
   "version": "3.8.8"
  }
 },
 "nbformat": 4,
 "nbformat_minor": 5
}
